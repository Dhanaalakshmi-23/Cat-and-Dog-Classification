{
 "cells": [
  {
   "cell_type": "code",
   "execution_count": 38,
   "metadata": {},
   "outputs": [],
   "source": [
    "from tensorflow.keras.models import Sequential\n",
    "from tensorflow.keras.layers import Conv2D, MaxPool2D, Dense, Flatten"
   ]
  },
  {
   "cell_type": "code",
   "execution_count": 39,
   "metadata": {},
   "outputs": [],
   "source": [
    "import numpy as np\n",
    "X_train = np.loadtxt(r'C:\\Users\\dhana\\OneDrive\\Desktop\\Image classification\\Image Classification CNN Keras Dataset\\input.csv',delimiter=',')\n",
    "Y_train = np.loadtxt(r'C:\\Users\\dhana\\OneDrive\\Desktop\\Image classification\\Image Classification CNN Keras Dataset\\labels.csv',delimiter=',')\n",
    "\n",
    "X_test = np.loadtxt(r'C:\\Users\\dhana\\OneDrive\\Desktop\\Image classification\\Image Classification CNN Keras Dataset\\input_test.csv',delimiter=',')\n",
    "Y_test = np.loadtxt(r'C:\\Users\\dhana\\OneDrive\\Desktop\\Image classification\\Image Classification CNN Keras Dataset\\labels_test.csv',delimiter=',')"
   ]
  },
  {
   "cell_type": "code",
   "execution_count": 40,
   "metadata": {},
   "outputs": [
    {
     "name": "stdout",
     "output_type": "stream",
     "text": [
      "shape of x_train:  (2000, 30000)\n",
      "shape of y_train:  (2000,)\n",
      "shape of x_test:  (400, 30000)\n",
      "shape of y_test:  (400,)\n"
     ]
    }
   ],
   "source": [
    "print(\"shape of x_train: \",X_train.shape)\n",
    "print(\"shape of y_train: \",Y_train.shape)\n",
    "print(\"shape of x_test: \",X_test.shape)\n",
    "print(\"shape of y_test: \",Y_test.shape)"
   ]
  },
  {
   "cell_type": "code",
   "execution_count": 41,
   "metadata": {},
   "outputs": [],
   "source": [
    "X_train = X_train.reshape(len(X_train), 100, 100, 3)\n",
    "Y_train = Y_train.reshape(len(Y_train), 1)\n",
    "\n",
    "X_test = X_test.reshape(len(X_test), 100, 100, 3)\n",
    "Y_test = Y_test.reshape(len(Y_test), 1)"
   ]
  },
  {
   "cell_type": "code",
   "execution_count": 42,
   "metadata": {},
   "outputs": [
    {
     "name": "stdout",
     "output_type": "stream",
     "text": [
      "shape of x_train:  (2000, 100, 100, 3)\n",
      "shape of y_train:  (2000, 1)\n",
      "shape of x_test:  (400, 100, 100, 3)\n",
      "shape of y_test:  (400, 1)\n"
     ]
    }
   ],
   "source": [
    "print(\"shape of x_train: \",X_train.shape)\n",
    "print(\"shape of y_train: \",Y_train.shape)\n",
    "print(\"shape of x_test: \",X_test.shape)\n",
    "print(\"shape of y_test: \",Y_test.shape)"
   ]
  },
  {
   "cell_type": "code",
   "execution_count": 43,
   "metadata": {},
   "outputs": [
    {
     "data": {
      "text/plain": [
       "array([[[131., 128., 135.],\n",
       "        [160., 157., 164.],\n",
       "        [198., 192., 204.],\n",
       "        ...,\n",
       "        [250., 249., 247.],\n",
       "        [255., 255., 253.],\n",
       "        [250., 249., 245.]],\n",
       "\n",
       "       [[140., 137., 144.],\n",
       "        [127., 124., 131.],\n",
       "        [120., 114., 124.],\n",
       "        ...,\n",
       "        [251., 253., 252.],\n",
       "        [254., 255., 253.],\n",
       "        [254., 255., 251.]],\n",
       "\n",
       "       [[204., 202., 207.],\n",
       "        [187., 185., 190.],\n",
       "        [147., 142., 148.],\n",
       "        ...,\n",
       "        [249., 255., 255.],\n",
       "        [238., 247., 242.],\n",
       "        [232., 241., 236.]],\n",
       "\n",
       "       ...,\n",
       "\n",
       "       [[174., 182., 195.],\n",
       "        [172., 180., 193.],\n",
       "        [178., 186., 197.],\n",
       "        ...,\n",
       "        [ 87., 114.,  97.],\n",
       "        [ 75.,  99.,  83.],\n",
       "        [ 80., 105.,  86.]],\n",
       "\n",
       "       [[166., 173., 189.],\n",
       "        [164., 172., 185.],\n",
       "        [172., 180., 193.],\n",
       "        ...,\n",
       "        [ 78., 106.,  84.],\n",
       "        [ 72.,  97.,  76.],\n",
       "        [ 77., 102.,  81.]],\n",
       "\n",
       "       [[173., 180., 196.],\n",
       "        [172., 179., 195.],\n",
       "        [174., 182., 195.],\n",
       "        ...,\n",
       "        [ 63.,  91.,  69.],\n",
       "        [ 62.,  87.,  65.],\n",
       "        [ 71.,  96.,  74.]]])"
      ]
     },
     "execution_count": 43,
     "metadata": {},
     "output_type": "execute_result"
    }
   ],
   "source": [
    "X_train[1,:]"
   ]
  },
  {
   "cell_type": "code",
   "execution_count": 44,
   "metadata": {},
   "outputs": [],
   "source": [
    "X_train=X_train/255.0\n",
    "Y_train=Y_train/255.0"
   ]
  },
  {
   "cell_type": "code",
   "execution_count": 45,
   "metadata": {},
   "outputs": [
    {
     "data": {
      "text/plain": [
       "array([[[0.51372549, 0.50196078, 0.52941176],\n",
       "        [0.62745098, 0.61568627, 0.64313725],\n",
       "        [0.77647059, 0.75294118, 0.8       ],\n",
       "        ...,\n",
       "        [0.98039216, 0.97647059, 0.96862745],\n",
       "        [1.        , 1.        , 0.99215686],\n",
       "        [0.98039216, 0.97647059, 0.96078431]],\n",
       "\n",
       "       [[0.54901961, 0.5372549 , 0.56470588],\n",
       "        [0.49803922, 0.48627451, 0.51372549],\n",
       "        [0.47058824, 0.44705882, 0.48627451],\n",
       "        ...,\n",
       "        [0.98431373, 0.99215686, 0.98823529],\n",
       "        [0.99607843, 1.        , 0.99215686],\n",
       "        [0.99607843, 1.        , 0.98431373]],\n",
       "\n",
       "       [[0.8       , 0.79215686, 0.81176471],\n",
       "        [0.73333333, 0.7254902 , 0.74509804],\n",
       "        [0.57647059, 0.55686275, 0.58039216],\n",
       "        ...,\n",
       "        [0.97647059, 1.        , 1.        ],\n",
       "        [0.93333333, 0.96862745, 0.94901961],\n",
       "        [0.90980392, 0.94509804, 0.9254902 ]],\n",
       "\n",
       "       ...,\n",
       "\n",
       "       [[0.68235294, 0.71372549, 0.76470588],\n",
       "        [0.6745098 , 0.70588235, 0.75686275],\n",
       "        [0.69803922, 0.72941176, 0.77254902],\n",
       "        ...,\n",
       "        [0.34117647, 0.44705882, 0.38039216],\n",
       "        [0.29411765, 0.38823529, 0.3254902 ],\n",
       "        [0.31372549, 0.41176471, 0.3372549 ]],\n",
       "\n",
       "       [[0.65098039, 0.67843137, 0.74117647],\n",
       "        [0.64313725, 0.6745098 , 0.7254902 ],\n",
       "        [0.6745098 , 0.70588235, 0.75686275],\n",
       "        ...,\n",
       "        [0.30588235, 0.41568627, 0.32941176],\n",
       "        [0.28235294, 0.38039216, 0.29803922],\n",
       "        [0.30196078, 0.4       , 0.31764706]],\n",
       "\n",
       "       [[0.67843137, 0.70588235, 0.76862745],\n",
       "        [0.6745098 , 0.70196078, 0.76470588],\n",
       "        [0.68235294, 0.71372549, 0.76470588],\n",
       "        ...,\n",
       "        [0.24705882, 0.35686275, 0.27058824],\n",
       "        [0.24313725, 0.34117647, 0.25490196],\n",
       "        [0.27843137, 0.37647059, 0.29019608]]])"
      ]
     },
     "execution_count": 45,
     "metadata": {},
     "output_type": "execute_result"
    }
   ],
   "source": [
    "X_train[1,:]"
   ]
  },
  {
   "cell_type": "code",
   "execution_count": 46,
   "metadata": {},
   "outputs": [
    {
     "data": {
      "image/png": "[encoded data removed]",
      "text/plain": [
       "<Figure size 640x480 with 1 Axes>"
      ]
     },
     "metadata": {},
     "output_type": "display_data"
    }
   ],
   "source": [
    "import matplotlib.pyplot as plt\n",
    "import random\n",
    "idx=random.randint(0,len(X_train))\n",
    "plt.imshow(X_train[idx, :])\n",
    "plt.show()"
   ]
  },
  {
   "cell_type": "code",
   "execution_count": 47,
   "metadata": {},
   "outputs": [
    {
     "name": "stderr",
     "output_type": "stream",
     "text": [
      "C:\\Users\\dhana\\AppData\\Local\\Packages\\PythonSoftwareFoundation.Python.3.11_qbz5n2kfra8p0\\LocalCache\\local-packages\\Python311\\site-packages\\keras\\src\\layers\\convolutional\\base_conv.py:99: UserWarning: Do not pass an `input_shape`/`input_dim` argument to a layer. When using Sequential models, prefer using an `Input(shape)` object as the first layer in the model instead.\n",
      "  super().__init__(\n"
     ]
    }
   ],
   "source": [
    "model = Sequential([\n",
    "    Conv2D(32, (3,3), activation='relu', input_shape=(100, 100, 3)),\n",
    "    MaxPool2D((2,2)),\n",
    "\n",
    "    Conv2D(32, (3,3), activation='relu'),\n",
    "    MaxPool2D((2,2)),\n",
    "\n",
    "    Flatten(),\n",
    "    Dense(64, activation='relu'),\n",
    "    Dense(1, activation='sigmoid')\n",
    "])"
   ]
  },
  {
   "cell_type": "code",
   "execution_count": 48,
   "metadata": {},
   "outputs": [],
   "source": [
    "model.compile(loss = 'binary_crossentropy', optimizer = 'adam', metrics=['accuracy'])"
   ]
  },
  {
   "cell_type": "code",
   "execution_count": 49,
   "metadata": {},
   "outputs": [
    {
     "name": "stdout",
     "output_type": "stream",
     "text": [
      "Epoch 1/10\n",
      "\u001b[1m32/32\u001b[0m \u001b[32m━━━━━━━━━━━━━━━━━━━━\u001b[0m\u001b[37m\u001b[0m \u001b[1m4s\u001b[0m 85ms/step - accuracy: 0.4836 - loss: 0.1055\n",
      "Epoch 2/10\n",
      "\u001b[1m32/32\u001b[0m \u001b[32m━━━━━━━━━━━━━━━━━━━━\u001b[0m\u001b[37m\u001b[0m \u001b[1m3s\u001b[0m 88ms/step - accuracy: 0.5122 - loss: 0.0155\n",
      "Epoch 3/10\n",
      "\u001b[1m32/32\u001b[0m \u001b[32m━━━━━━━━━━━━━━━━━━━━\u001b[0m\u001b[37m\u001b[0m \u001b[1m3s\u001b[0m 102ms/step - accuracy: 0.4864 - loss: 0.0148\n",
      "Epoch 4/10\n",
      "\u001b[1m32/32\u001b[0m \u001b[32m━━━━━━━━━━━━━━━━━━━━\u001b[0m\u001b[37m\u001b[0m \u001b[1m3s\u001b[0m 100ms/step - accuracy: 0.4872 - loss: 0.0145\n",
      "Epoch 5/10\n",
      "\u001b[1m32/32\u001b[0m \u001b[32m━━━━━━━━━━━━━━━━━━━━\u001b[0m\u001b[37m\u001b[0m \u001b[1m3s\u001b[0m 93ms/step - accuracy: 0.5072 - loss: 0.0139\n",
      "Epoch 6/10\n",
      "\u001b[1m32/32\u001b[0m \u001b[32m━━━━━━━━━━━━━━━━━━━━\u001b[0m\u001b[37m\u001b[0m \u001b[1m3s\u001b[0m 92ms/step - accuracy: 0.4833 - loss: 0.0145\n",
      "Epoch 7/10\n",
      "\u001b[1m32/32\u001b[0m \u001b[32m━━━━━━━━━━━━━━━━━━━━\u001b[0m\u001b[37m\u001b[0m \u001b[1m3s\u001b[0m 92ms/step - accuracy: 0.4944 - loss: 0.0142\n",
      "Epoch 8/10\n",
      "\u001b[1m32/32\u001b[0m \u001b[32m━━━━━━━━━━━━━━━━━━━━\u001b[0m\u001b[37m\u001b[0m \u001b[1m3s\u001b[0m 99ms/step - accuracy: 0.5033 - loss: 0.0140 \n",
      "Epoch 9/10\n",
      "\u001b[1m32/32\u001b[0m \u001b[32m━━━━━━━━━━━━━━━━━━━━\u001b[0m\u001b[37m\u001b[0m \u001b[1m3s\u001b[0m 95ms/step - accuracy: 0.4995 - loss: 0.0139\n",
      "Epoch 10/10\n",
      "\u001b[1m32/32\u001b[0m \u001b[32m━━━━━━━━━━━━━━━━━━━━\u001b[0m\u001b[37m\u001b[0m \u001b[1m3s\u001b[0m 87ms/step - accuracy: 0.5013 - loss: 0.0137\n"
     ]
    },
    {
     "data": {
      "text/plain": [
       "<keras.src.callbacks.history.History at 0x1f3c12f7c90>"
      ]
     },
     "execution_count": 49,
     "metadata": {},
     "output_type": "execute_result"
    }
   ],
   "source": [
    "model.fit(X_train, Y_train, epochs=10, batch_size=64)"
   ]
  },
  {
   "cell_type": "code",
   "execution_count": 50,
   "metadata": {},
   "outputs": [
    {
     "name": "stdout",
     "output_type": "stream",
     "text": [
      "\u001b[1m13/13\u001b[0m \u001b[32m━━━━━━━━━━━━━━━━━━━━\u001b[0m\u001b[37m\u001b[0m \u001b[1m0s\u001b[0m 15ms/step - accuracy: 0.7916 - loss: 163.2534\n"
     ]
    },
    {
     "data": {
      "text/plain": [
       "[390.7203063964844, 0.5]"
      ]
     },
     "execution_count": 50,
     "metadata": {},
     "output_type": "execute_result"
    }
   ],
   "source": [
    "model.evaluate(X_test,Y_test)"
   ]
  },
  {
   "cell_type": "code",
   "execution_count": 51,
   "metadata": {},
   "outputs": [
    {
     "name": "stderr",
     "output_type": "stream",
     "text": [
      "Clipping input data to the valid range for imshow with RGB data ([0..1] for floats or [0..255] for integers). Got range [5.0..255.0].\n"
     ]
    },
    {
     "data": {
      "image/png": "[encoded data removed]",
      "text/plain": [
       "<Figure size 640x480 with 1 Axes>"
      ]
     },
     "metadata": {},
     "output_type": "display_data"
    },
    {
     "name": "stdout",
     "output_type": "stream",
     "text": [
      "\u001b[1m1/1\u001b[0m \u001b[32m━━━━━━━━━━━━━━━━━━━━\u001b[0m\u001b[37m\u001b[0m \u001b[1m0s\u001b[0m 56ms/step\n",
      "[[0.]]\n",
      "our model says it is a :  Dog\n"
     ]
    }
   ],
   "source": [
    "idx2 = random.randint(0, len(Y_test))\n",
    "plt.imshow(X_test[idx2, :])\n",
    "plt.show()\n",
    "\n",
    "y_pred = model.predict(X_test[idx2, :].reshape(1, 100, 100, 3))\n",
    "print(y_pred)\n",
    "y_pred = y_pred >0.5\n",
    "if(y_pred==0):\n",
    "    pred = 'Dog'\n",
    "else:\n",
    "    pred = 'cat'\n",
    "\n",
    "print(\"our model says it is a : \",pred)"
   ]
  },
  {
   "cell_type": "code",
   "execution_count": null,
   "metadata": {},
   "outputs": [],
   "source": []
  }
 ],
 "metadata": {
  "kernelspec": {
   "display_name": "Python 3",
   "language": "python",
   "name": "python3"
  },
  "language_info": {
   "codemirror_mode": {
    "name": "ipython",
    "version": 3
   },
   "file_extension": ".py",
   "mimetype": "text/x-python",
   "name": "python",
   "nbconvert_exporter": "python",
   "pygments_lexer": "ipython3",
   "version": "3.11.9"
  }
 },
 "nbformat": 4,
 "nbformat_minor": 2
}
